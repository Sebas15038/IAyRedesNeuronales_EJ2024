{
  "nbformat": 4,
  "nbformat_minor": 0,
  "metadata": {
    "colab": {
      "provenance": [],
      "authorship_tag": "ABX9TyO+59e2czNrDaDWSQMBfmlX",
      "include_colab_link": true
    },
    "kernelspec": {
      "name": "python3",
      "display_name": "Python 3"
    },
    "language_info": {
      "name": "python"
    }
  },
  "cells": [
    {
      "cell_type": "markdown",
      "metadata": {
        "id": "view-in-github",
        "colab_type": "text"
      },
      "source": [
        "<a href=\"https://colab.research.google.com/github/Sebas15038/IAyRedesNeuronales_EJ2024/blob/main/EjercicioPython_1.ipynb\" target=\"_parent\"><img src=\"https://colab.research.google.com/assets/colab-badge.svg\" alt=\"Open In Colab\"/></a>"
      ]
    },
    {
      "cell_type": "markdown",
      "source": [
        "# **Actividad 2**\n",
        "## *Diseño de Algoritmos en Python*\n",
        "### Inteligencia Artificial y Redes Neuronales\n",
        "\n",
        "Sebastián Eugenio Méndez Espinosa\n",
        "Matricula: 2024074\n",
        "N4"
      ],
      "metadata": {
        "id": "b2q5nSIulqD-"
      }
    },
    {
      "cell_type": "markdown",
      "source": [
        "# Problema 1\n",
        "Desarrolla un algoritmo que le pida al usuario por su nombre y que lo salude con su nombre, excepto si se llama “Ana”, “Juan”, y “Pedro”."
      ],
      "metadata": {
        "id": "2NAjB-zymxFF"
      }
    },
    {
      "cell_type": "code",
      "execution_count": null,
      "metadata": {
        "colab": {
          "base_uri": "https://localhost:8080/"
        },
        "id": "AxKLu6jnlh8k",
        "outputId": "0f7fe151-8ca6-4c3d-ad47-327c4464cc1b"
      },
      "outputs": [
        {
          "output_type": "stream",
          "name": "stdout",
          "text": [
            "¿Cual es tu nombre?:  Ana\n",
            "I don't like your name!\n"
          ]
        }
      ],
      "source": [
        "name = input(\"¿Cual es tu nombre?:  \")\n",
        "\n",
        "if name == \"Ana\":\n",
        "  print(\"I don't like your name!\")\n",
        "elif name == \"Juan\":\n",
        "  print(\"I don't like your name!\")\n",
        "elif name == \"Pedro\":\n",
        "  print(\"I don't like your name!\")\n",
        "else:\n",
        "  print(name)"
      ]
    },
    {
      "cell_type": "markdown",
      "source": [
        "# Problema 2\n",
        "Desarrolla un algoritmo que por medio de una función, le pida al usuario una lista de N elementos y como resultado invierta el sentido de la lista."
      ],
      "metadata": {
        "id": "0FiD6G4etlvX"
      }
    },
    {
      "cell_type": "code",
      "source": [
        "def invertir_lista():\n",
        "  #Comenzamos por pedir al usuario la cantidad de elementos que tendra la lista.\n",
        "  n = int(input(\"Ingrese la cantidad de elemenetos en la lista:   \"))\n",
        "\n",
        "  #Despues se le pide al usuario ingresar los elementos de la lista.\n",
        "  lista=[]\n",
        "  for i in range(n):\n",
        "    elemento = input(f\"Ingrese el elemento:   \")\n",
        "    lista.append(elemento)\n",
        "\n",
        "  #Se imprime la lista original a manera de retroalimentacion y verificar que la lista se genero correctamente.\n",
        "  print(\"\\nLista Original:\", lista)\n",
        "\n",
        "  #Se invierte la lista utilizando la funcion reversed de Python\n",
        "  lista_invertida = list(reversed(lista))\n",
        "\n",
        "  #Se imprime la lista invertida.\n",
        "  print(\"Lista invertida:\", lista_invertida)"
      ],
      "metadata": {
        "id": "myBFaec9UKri"
      },
      "execution_count": 3,
      "outputs": []
    },
    {
      "cell_type": "code",
      "source": [
        "#Llamamos a la funcion creada.\n",
        "invertir_lista()"
      ],
      "metadata": {
        "colab": {
          "base_uri": "https://localhost:8080/"
        },
        "id": "374Vl8-EVtS_",
        "outputId": "f92a8274-98cb-43eb-f62a-ead1ce391975"
      },
      "execution_count": 4,
      "outputs": [
        {
          "output_type": "stream",
          "name": "stdout",
          "text": [
            "Ingrese la cantidad de elemenetos en la lista:   3\n",
            "Ingrese el elemento:   55\n",
            "Ingrese el elemento:   31\n",
            "Ingrese el elemento:   54678\n",
            "\n",
            "Lista Original: ['55', '31', '54678']\n",
            "Lista invertida: ['54678', '31', '55']\n"
          ]
        }
      ]
    },
    {
      "cell_type": "markdown",
      "source": [
        "# Problema 3\n",
        "Desarrolla un algoritmo que le pregunte al usuario cuántos números de la serie de Fibonacci quiere generar y que al final los imprima."
      ],
      "metadata": {
        "id": "CbcqgG2vXTn9"
      }
    },
    {
      "cell_type": "code",
      "source": [
        "def generar_fibonacci(n):\n",
        "  #Definimos los primeros 2 valores de la serie.\n",
        "  serie_fibonacci = [0,1]\n",
        "\n",
        "  for i in range(2,n):\n",
        "    #Se crea una variable para almacenar el siguiente valor de la serie.\n",
        "    sig_num = serie_fibonacci[-1] + serie_fibonacci[-2]\n",
        "    #Se agrega el valor al final de la lista.\n",
        "    serie_fibonacci.append(sig_num)\n",
        "\n",
        "  return serie_fibonacci"
      ],
      "metadata": {
        "id": "oRDi1XsBgDp-"
      },
      "execution_count": 5,
      "outputs": []
    },
    {
      "cell_type": "code",
      "source": [
        "def elementos_fibonacci():\n",
        "  #Se solicita al usuario la cantidad de elementos de la serie a generar.\n",
        "  n = int(input(\"Ingrese la cantidad de numeros de Fibonacci a generar:  \"))\n",
        "\n",
        "  #Se genera la serie de Fibonacci\n",
        "  fibonacci_resultado = generar_fibonacci(n)\n",
        "\n",
        "  #Imprimir la serie\n",
        "  print(\"\\nSecuencia de Fibonacci: \")\n",
        "  for num in fibonacci_resultado:\n",
        "    print(num, end=\" \")"
      ],
      "metadata": {
        "id": "Kv8b6Sn4jtlB"
      },
      "execution_count": 6,
      "outputs": []
    },
    {
      "cell_type": "code",
      "source": [
        "elementos_fibonacci()"
      ],
      "metadata": {
        "colab": {
          "base_uri": "https://localhost:8080/"
        },
        "id": "4cIKjWytmOtf",
        "outputId": "faac44ca-3813-463f-8520-00f4ba54c165"
      },
      "execution_count": 8,
      "outputs": [
        {
          "output_type": "stream",
          "name": "stdout",
          "text": [
            "Ingrese la cantidad de numeros de Fibonacci a generar:  10\n",
            "\n",
            "Secuencia de Fibonacci: \n",
            "0 1 1 2 3 5 8 13 21 34 "
          ]
        }
      ]
    },
    {
      "cell_type": "markdown",
      "source": [
        "# Problema 4\n",
        "Juego de adivinar el número: Crea un programa que genere un número aleatorio entre 1 y 100, y luego le pida al usuario que adivine el número. El programa debe proporcionar pistas al usuario si el número es mayor o menor que el número objetivo, y seguir solicitando un nuevo intento hasta que el usuario adivine correctamente."
      ],
      "metadata": {
        "id": "rQnWKJ6FnuS-"
      }
    },
    {
      "cell_type": "code",
      "source": [
        "#Se utiliza la libreria random para generar un numero aletorio.\n",
        "import random"
      ],
      "metadata": {
        "id": "0uXTr1DwqAdy"
      },
      "execution_count": 14,
      "outputs": []
    },
    {
      "cell_type": "code",
      "source": [
        "def adivinar_num():\n",
        "  #Se genera un numero aleatorio del 1 al 100 y se almacena en la variable.\n",
        "  numero_objetivo = random.randint(1,100)\n",
        "\n",
        "  #Se crea una variable para almacenar el numero de intentos.\n",
        "  intentos = 0\n",
        "\n",
        "  while True:\n",
        "    # Se solicita un numero al usuario.\n",
        "    numero_usuario = int(input(\"Adivina el numero (entre 1 y 100):  \"))\n",
        "    intentos += 1\n",
        "\n",
        "    # Comparar el intento del usuario con el numero a adivinar.\n",
        "    if numero_usuario == numero_objetivo:\n",
        "      print(f\"¡Felicidades! Has adivinado el número {numero_objetivo} en {intentos} intentos.\")\n",
        "      break\n",
        "    elif numero_usuario < numero_objetivo:\n",
        "      print(\"El numero es mayor. Intenta nuevamente.\")\n",
        "    else:\n",
        "      print(\"El número es menor. Intenta de nuevo.\")"
      ],
      "metadata": {
        "id": "efwNm95HqDQT"
      },
      "execution_count": 15,
      "outputs": []
    },
    {
      "cell_type": "code",
      "source": [
        "adivinar_num()"
      ],
      "metadata": {
        "colab": {
          "base_uri": "https://localhost:8080/"
        },
        "id": "su5qJJUDrsIO",
        "outputId": "e4f992e0-8cb8-4c6c-f6ef-4bb42c86848a"
      },
      "execution_count": 16,
      "outputs": [
        {
          "output_type": "stream",
          "name": "stdout",
          "text": [
            "Adivina el numero (entre 1 y 100):  50\n",
            "El número es menor. Intenta de nuevo.\n",
            "Adivina el numero (entre 1 y 100):  40\n",
            "El número es menor. Intenta de nuevo.\n",
            "Adivina el numero (entre 1 y 100):  30\n",
            "El número es menor. Intenta de nuevo.\n",
            "Adivina el numero (entre 1 y 100):  20\n",
            "El número es menor. Intenta de nuevo.\n",
            "Adivina el numero (entre 1 y 100):  10\n",
            "El número es menor. Intenta de nuevo.\n",
            "Adivina el numero (entre 1 y 100):  5\n",
            "El número es menor. Intenta de nuevo.\n",
            "Adivina el numero (entre 1 y 100):  3\n",
            "El número es menor. Intenta de nuevo.\n",
            "Adivina el numero (entre 1 y 100):  2\n",
            "¡Felicidades! Has adivinado el número 2 en 8 intentos.\n"
          ]
        }
      ]
    },
    {
      "cell_type": "markdown",
      "source": [
        "# Problema 5\n",
        "Ejercicio de cálculo de números primos en un rango dado: Escribe un programa que solicite al usuario un rango de números y muestre todos los números primos dentro de ese rango."
      ],
      "metadata": {
        "id": "S1R_vCrkvKRE"
      }
    },
    {
      "cell_type": "code",
      "source": [
        "# Se crea una función que determine si un numero es primo.\n",
        "def es_primo(numero):\n",
        "  if numero < 2:\n",
        "    return False\n",
        "  for i in range(2, int(numero**0.5)+1):\n",
        "    if numero % i ==0:\n",
        "      return False\n",
        "  return True"
      ],
      "metadata": {
        "id": "NyMUOH7FvbG5"
      },
      "execution_count": 17,
      "outputs": []
    },
    {
      "cell_type": "code",
      "source": [
        "# Se crea una funcion que genere la lista de numeros primos.\n",
        "def num_primos_rango(inicio, fin):\n",
        "  rango_primos = []\n",
        "  for num in range(inicio, fin + 1):\n",
        "    if es_primo(num):\n",
        "      rango_primos.append(num)\n",
        "  return rango_primos"
      ],
      "metadata": {
        "id": "Cg8P4fWRw1yP"
      },
      "execution_count": 18,
      "outputs": []
    },
    {
      "cell_type": "code",
      "source": [
        "#Se le solicita al usuario los valores limites del rango.\n",
        "inicio_rango = int(input(\"Ingrese el valor inferior del rango:  \"))\n",
        "fin_rango = int(input(\"Ingrese el valor superior del rango:  \"))\n",
        "\n",
        "rango_primos = num_primos_rango(inicio_rango, fin_rango)\n",
        "print(f\"\\nNúmeros primos en el rango ({inicio_rango}-{fin_rango}):\")\n",
        "print(rango_primos)"
      ],
      "metadata": {
        "colab": {
          "base_uri": "https://localhost:8080/"
        },
        "id": "BwUiFht2xgay",
        "outputId": "e386e027-5ce5-470d-b362-10568061fdc1"
      },
      "execution_count": 19,
      "outputs": [
        {
          "output_type": "stream",
          "name": "stdout",
          "text": [
            "Ingrese el valor inferior del rango:  10\n",
            "Ingrese el valor superior del rango:  25\n",
            "\n",
            "Números primos en el rango (10-25):\n",
            "[11, 13, 17, 19, 23]\n"
          ]
        }
      ]
    },
    {
      "cell_type": "markdown",
      "source": [
        "# Problema 6\n",
        "Ejercicio de implementación de una calculadora básica utilizando funciones: Escribe un programa que solicite al usuario dos números y realice operaciones básicas como suma, resta, multiplicación y división utilizando funciones separadas para cada operación."
      ],
      "metadata": {
        "id": "lB7-fqvWzDM2"
      }
    },
    {
      "cell_type": "code",
      "source": [
        "def suma(a, b):\n",
        "  return a + b"
      ],
      "metadata": {
        "id": "BgCYRXDAzdFY"
      },
      "execution_count": 20,
      "outputs": []
    },
    {
      "cell_type": "code",
      "source": [
        "def resta(a, b):\n",
        "  return a - b"
      ],
      "metadata": {
        "id": "RRz07qKkzikE"
      },
      "execution_count": 21,
      "outputs": []
    },
    {
      "cell_type": "code",
      "source": [
        "def multiplicacion(a, b):\n",
        "  return a * b"
      ],
      "metadata": {
        "id": "Gr18jaP2zonX"
      },
      "execution_count": 22,
      "outputs": []
    },
    {
      "cell_type": "code",
      "source": [
        "def division(a, b):\n",
        "  if b == 0:\n",
        "    return \"Error: No es posible dividir entre cero\"\n",
        "  return a/b"
      ],
      "metadata": {
        "id": "YZgaYa3dzw4k"
      },
      "execution_count": 23,
      "outputs": []
    },
    {
      "cell_type": "code",
      "source": [
        "# Solicitar al usuario dos números\n",
        "numero1 = float(input(\"Ingrese el primer número: \"))\n",
        "numero2 = float(input(\"Ingrese el segundo número: \"))"
      ],
      "metadata": {
        "colab": {
          "base_uri": "https://localhost:8080/"
        },
        "id": "qOaxQ8NB0F2g",
        "outputId": "9a0d6933-8b0a-4696-a2ea-6ab85cef6a51"
      },
      "execution_count": 24,
      "outputs": [
        {
          "name": "stdout",
          "output_type": "stream",
          "text": [
            "Ingrese el primer número: 10\n",
            "Ingrese el segundo número: 15\n"
          ]
        }
      ]
    },
    {
      "cell_type": "code",
      "source": [
        "# Realizar operaciones básicas\n",
        "resultado_suma = suma(numero1, numero2)\n",
        "resultado_resta = resta(numero1, numero2)\n",
        "resultado_multiplicacion = multiplicacion(numero1, numero2)\n",
        "resultado_division = division(numero1, numero2)"
      ],
      "metadata": {
        "id": "y7xdkWFU1DRI"
      },
      "execution_count": 25,
      "outputs": []
    },
    {
      "cell_type": "code",
      "source": [
        "# Mostrar resultados\n",
        "print(\"\\nResultados:\")\n",
        "print(f\"Suma: {resultado_suma}\")\n",
        "print(f\"Resta: {resultado_resta}\")\n",
        "print(f\"Multiplicación: {resultado_multiplicacion}\")\n",
        "print(f\"División: {resultado_division}\")"
      ],
      "metadata": {
        "colab": {
          "base_uri": "https://localhost:8080/"
        },
        "id": "2b3DWNBi1F0r",
        "outputId": "3236f607-56e9-44fd-e77a-586cfb052b0b"
      },
      "execution_count": 26,
      "outputs": [
        {
          "output_type": "stream",
          "name": "stdout",
          "text": [
            "\n",
            "Resultados:\n",
            "Suma: 25.0\n",
            "Resta: -5.0\n",
            "Multiplicación: 150.0\n",
            "División: 0.6666666666666666\n"
          ]
        }
      ]
    }
  ]
}